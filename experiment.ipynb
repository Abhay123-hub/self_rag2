{
 "cells": [
  {
   "cell_type": "code",
   "execution_count": 1,
   "metadata": {},
   "outputs": [],
   "source": [
    "## first of all importing the secret variables\n",
    "import os\n",
    "from dotenv import load_dotenv\n",
    "load_dotenv()\n",
    "groq_api_key = os.getenv(\"GROQ_API_KEY\")\n",
    "api_key = os.getenv(\"OPENAI_API_KEY\")\n"
   ]
  },
  {
   "cell_type": "code",
   "execution_count": 2,
   "metadata": {},
   "outputs": [],
   "source": [
    "## ignoring the warnings\n",
    "import warnings\n",
    "warnings.filterwarnings('ignore')"
   ]
  },
  {
   "cell_type": "code",
   "execution_count": 3,
   "metadata": {},
   "outputs": [],
   "source": [
    "from langchain_openai import ChatOpenAI\n",
    "llm = ChatOpenAI(model = \"gpt-3.5-turbo\",api_key=api_key)\n",
    "from langchain_huggingface import HuggingFaceEmbeddings\n",
    "embeddings=HuggingFaceEmbeddings(model_name=\"all-MiniLM-L6-v2\")"
   ]
  },
  {
   "cell_type": "code",
   "execution_count": 4,
   "metadata": {},
   "outputs": [
    {
     "data": {
      "text/plain": [
       "ChatOpenAI(client=<openai.resources.chat.completions.completions.Completions object at 0x0000022E0699AAD0>, async_client=<openai.resources.chat.completions.completions.AsyncCompletions object at 0x0000022E069BCBE0>, root_client=<openai.OpenAI object at 0x0000022E02C0E8C0>, root_async_client=<openai.AsyncOpenAI object at 0x0000022E0699AB30>, model_kwargs={}, openai_api_key=SecretStr('**********'))"
      ]
     },
     "execution_count": 4,
     "metadata": {},
     "output_type": "execute_result"
    }
   ],
   "source": [
    "llm"
   ]
  },
  {
   "cell_type": "code",
   "execution_count": 5,
   "metadata": {},
   "outputs": [
    {
     "data": {
      "text/plain": [
       "'Data science is a multidisciplinary field that uses various scientific methods, processes, algorithms, and systems to extract knowledge and insights from structured and unstructured data. It combines elements of statistics, computer science, machine learning, and domain expertise to analyze and interpret complex data sets. Data scientists use a combination of programming languages, data visualization tools, and analytical techniques to uncover patterns, trends, and correlations in data that can be used to make informed business decisions, drive research, and solve complex problems.'"
      ]
     },
     "execution_count": 5,
     "metadata": {},
     "output_type": "execute_result"
    }
   ],
   "source": [
    "llm.invoke(\"what is Data Science\").content"
   ]
  },
  {
   "cell_type": "code",
   "execution_count": 6,
   "metadata": {},
   "outputs": [
    {
     "name": "stderr",
     "output_type": "stream",
     "text": [
      "USER_AGENT environment variable not set, consider setting it to identify your requests.\n"
     ]
    }
   ],
   "source": [
    "from langchain_text_splitters import RecursiveCharacterTextSplitter ## for splitting the text into chunks\n",
    "from langchain_community.document_loaders import WebBaseLoader ## for loading the text from website\n",
    "from langchain_community.vectorstores import Chroma\n",
    "urls = [\n",
    "    \"https://lilianweng.github.io/posts/2023-06-23-agent/\",\n",
    "    \"https://lilianweng.github.io/posts/2023-03-15-prompt-engineering/\",\n",
    "]\n",
    "docs = [WebBaseLoader(url).load() for url in urls]\n",
    "## my content is in nested list\n",
    "## but i want my content in single list only\n",
    "docs_list = [item for sublist in docs for item in sublist]\n",
    "## i have my content in a single list\n",
    "## now my next job is to split this text into chunks\n",
    "## first of all i will be creating the RecursiveCharacterTextSplitter\n",
    "from langchain_text_splitters import RecursiveCharacterTextSplitter\n",
    "text_splitter = RecursiveCharacterTextSplitter.from_tiktoken_encoder(\n",
    "    chunk_size = 200,chunk_overlap = 100\n",
    ")\n",
    "docs_split = text_splitter.split_documents(docs_list)\n",
    "## now i have my content in form of chunks\n",
    "## now i will be converting these chunks into word vector embeddings\n",
    "## and will store in a vector database\n",
    "vectorstore = Chroma.from_documents(\n",
    "    documents=docs_split,\n",
    "    embedding=embeddings,\n",
    "    collection_name=\"rag-chroma\"\n",
    ")\n",
    "## creating retriever on top of this retriever\n",
    "retriever = vectorstore.as_retriever()\n"
   ]
  },
  {
   "cell_type": "code",
   "execution_count": 7,
   "metadata": {},
   "outputs": [],
   "source": [
    "## creating the tool of this retriever\n",
    "from langchain.tools.retriever import create_retriever_tool\n",
    "tool = create_retriever_tool(retriever,\n",
    "                             \"retrieve_blog_posts\",\n",
    "                             \"Search and return information about Lilian Weng blog posts on LLM agents, prompt engineering, and adversarial attacks on LLMs\",)\n",
    "tools = [tool]"
   ]
  },
  {
   "cell_type": "code",
   "execution_count": 8,
   "metadata": {},
   "outputs": [
    {
     "name": "stderr",
     "output_type": "stream",
     "text": [
      "c:\\Users\\Global\\self_rag2\\venv\\lib\\site-packages\\IPython\\core\\interactiveshell.py:3579: LangChainDeprecationWarning: As of langchain-core 0.3.0, LangChain uses pydantic v2 internally. The langchain_core.pydantic_v1 module was a compatibility shim for pydantic v1, and should no longer be used. Please update the code to import from Pydantic directly.\n",
      "\n",
      "For example, replace imports like: `from langchain_core.pydantic_v1 import BaseModel`\n",
      "with: `from pydantic import BaseModel`\n",
      "or the v1 compatibility namespace if you are working in a code base that has not been fully upgraded to pydantic 2 yet. \tfrom pydantic.v1 import BaseModel\n",
      "\n",
      "  exec(code_obj, self.user_global_ns, self.user_ns)\n"
     ]
    }
   ],
   "source": [
    "from langchain_core.prompts import ChatPromptTemplate\n",
    "from langchain_core.pydantic_v1 import BaseModel,Field\n",
    "## i want to create a system which will take two variables as the input\n",
    "# question and documents, and using thinking capability of llm \n",
    "## we will decide either the question is related to documents or not\n",
    "## now the main thing is in output\n",
    "## if the question is related to documents\n",
    "## then we will get binary_score = 'yes'\n",
    "## otherwise we will get binary_score = 'no' \n",
    "## we want our output in this format only"
   ]
  },
  {
   "cell_type": "code",
   "execution_count": 9,
   "metadata": {},
   "outputs": [],
   "source": [
    "class GradeDocuments(BaseModel):\n",
    "    \"Relevance score 'yes' or 'no'\" \n",
    "    binary_score:str = Field(\n",
    "        description = \"Documents are relevant to the question 'yes' or 'no'\"\n",
    "    )"
   ]
  },
  {
   "cell_type": "code",
   "execution_count": 10,
   "metadata": {},
   "outputs": [],
   "source": [
    "llm_with_structured_output = llm.with_structured_output(GradeDocuments)\n",
    "system = \"\"\" You are a document grader.Given the question and given to you.\n",
    "your job is to find out either these documents are relevant to question or not.\n",
    "if the question is relevant to documents return binary_score = 'yes' \n",
    "and if the question is not relevant to documents then return binary_score = 'no'\n",
    "                                \"\"\"  \n",
    "prompt = ChatPromptTemplate.from_messages(\n",
    "[\n",
    "    (\"system\",system),\n",
    "    (\"human\",\"documents:{documents} \\n question:{question}\")\n",
    "]\n",
    ")\n",
    "document_grader = prompt | llm_with_structured_output"
   ]
  },
  {
   "cell_type": "code",
   "execution_count": 11,
   "metadata": {},
   "outputs": [
    {
     "data": {
      "text/plain": [
       "'yes'"
      ]
     },
     "execution_count": 11,
     "metadata": {},
     "output_type": "execute_result"
    }
   ],
   "source": [
    "question = \"what is prompt engineering\"\n",
    "docs = retriever.invoke(question)\n",
    "document_grader.invoke({\"documents\":docs,\"question\":question}).binary_score"
   ]
  },
  {
   "cell_type": "code",
   "execution_count": 12,
   "metadata": {},
   "outputs": [
    {
     "data": {
      "text/plain": [
       "'yes'"
      ]
     },
     "execution_count": 12,
     "metadata": {},
     "output_type": "execute_result"
    }
   ],
   "source": [
    "question = \"what are AI agents\" \n",
    "document_grader.invoke({\"documents\":docs,\"question\":question}).binary_score\n"
   ]
  },
  {
   "cell_type": "code",
   "execution_count": 13,
   "metadata": {},
   "outputs": [
    {
     "data": {
      "text/plain": [
       "ChatPromptTemplate(input_variables=['context', 'question'], input_types={}, partial_variables={}, metadata={'lc_hub_owner': 'rlm', 'lc_hub_repo': 'rag-prompt', 'lc_hub_commit_hash': '50442af133e61576e74536c6556cefe1fac147cad032f4377b60c436e6cdcb6e'}, messages=[HumanMessagePromptTemplate(prompt=PromptTemplate(input_variables=['context', 'question'], input_types={}, partial_variables={}, template=\"You are an assistant for question-answering tasks. Use the following pieces of retrieved context to answer the question. If you don't know the answer, just say that you don't know. Use three sentences maximum and keep the answer concise.\\nQuestion: {question} \\nContext: {context} \\nAnswer:\"), additional_kwargs={})])"
      ]
     },
     "execution_count": 13,
     "metadata": {},
     "output_type": "execute_result"
    }
   ],
   "source": [
    "## now i will be creating the RAG chain\n",
    "from langchain import hub\n",
    "from langchain_core.output_parsers import StrOutputParser\n",
    "prompt = hub.pull(\"rlm/rag-prompt\")\n",
    "prompt ## this prompt is sepcifically designed for rag where question and doc is given\n",
    "## and output is generated using that questiona and docs"
   ]
  },
  {
   "cell_type": "code",
   "execution_count": 14,
   "metadata": {},
   "outputs": [],
   "source": [
    "question = \"what is memory in agent\" \n",
    "context = retriever.invoke(question)"
   ]
  },
  {
   "cell_type": "code",
   "execution_count": 15,
   "metadata": {},
   "outputs": [
    {
     "data": {
      "text/plain": [
       "AIMessage(content=\"In an agent system, memory consists of both short-term and long-term memory. Short-term memory is used for in-context learning, while long-term memory enables infinite information retention and recall over extended periods. Memory retrieval and reflection mechanisms help synthesize past experiences into inferences and guide the agent's future behavior.\", additional_kwargs={'refusal': None}, response_metadata={'token_usage': {'completion_tokens': 62, 'prompt_tokens': 2278, 'total_tokens': 2340, 'completion_tokens_details': {'accepted_prediction_tokens': 0, 'audio_tokens': 0, 'reasoning_tokens': 0, 'rejected_prediction_tokens': 0}, 'prompt_tokens_details': {'audio_tokens': 0, 'cached_tokens': 0}}, 'model_name': 'gpt-3.5-turbo-0125', 'system_fingerprint': None, 'finish_reason': 'stop', 'logprobs': None}, id='run-0194a94a-d693-4408-a63e-c2194f4cb6ca-0', usage_metadata={'input_tokens': 2278, 'output_tokens': 62, 'total_tokens': 2340, 'input_token_details': {'audio': 0, 'cache_read': 0}, 'output_token_details': {'audio': 0, 'reasoning': 0}})"
      ]
     },
     "execution_count": 15,
     "metadata": {},
     "output_type": "execute_result"
    }
   ],
   "source": [
    "rag_chain = prompt | llm\n",
    "rag_chain.invoke({\"question\":question,\"context\":context})\n"
   ]
  },
  {
   "cell_type": "code",
   "execution_count": null,
   "metadata": {},
   "outputs": [],
   "source": [
    "## here i will be creating a system which take question and generation as input\n",
    "## and will tell us either this generation is related to question or not\n",
    "## main thing is if we question is related to documents\n",
    "## then we will get binary_score = 'yes' in output\n",
    "## and if the question is not related to documents\n",
    "## then we will get binary_score = 'no' in output"
   ]
  },
  {
   "cell_type": "code",
   "execution_count": 16,
   "metadata": {},
   "outputs": [],
   "source": [
    "## formatting the output of the system \n",
    "## that i want my output in this format only\n",
    "class GradeQuestion(BaseModel):\n",
    "    \"Grades question with documents\" \n",
    "    binary_score:str = Field(\n",
    "        description =\"Relevance score 'yes' or 'no' \"\n",
    "    )\n",
    "llm_with_structured = llm.with_structured_output(GradeQuestion)\n",
    "system=\"\"\"an Intelligent AI system.Given the question and generation to you.\n",
    "with your intelligence you need to find out either this question is related to this generation or not.\n",
    "if the question is related to the generation return binary_score = 'yes'\n",
    "and if the question is not related to generation then return binary_score = 'no'\n",
    "                  \n",
    "                            \"\"\"\n",
    "prompt = ChatPromptTemplate.from_messages(\n",
    "    [(\"system\",system),\n",
    "     (\"human\",\"question:{question} \\n generation:{generation} \")]\n",
    ")\n",
    "\n",
    "answer_grader = prompt | llm_with_structured\n"
   ]
  },
  {
   "cell_type": "code",
   "execution_count": 17,
   "metadata": {},
   "outputs": [],
   "source": [
    "class HallucinationGrader(BaseModel):\n",
    "    \"Grades documents with generation\" \n",
    "    binary_score:str = Field(\n",
    "        description = \"Relevance score 'yes' or 'no' \"\n",
    "    )\n",
    "llm_with_structured_output = llm.with_structured_output(HallucinationGrader)\n"
   ]
  },
  {
   "cell_type": "code",
   "execution_count": 18,
   "metadata": {},
   "outputs": [],
   "source": [
    "system = \"\"\"   You are an intelligent AI system. Given the generation and documents to you.\n",
    "your job is to find out that the documents are related to generation or not.\n",
    "if the documents are related to generation then return binary_score = 'yes' \n",
    "and if the documents are not related to generation then return binary_score = 'no'\n",
    "observe clearly then give any response.before giving binary_score = 'yes' or 'no' \n",
    "think properly.\n",
    "\n",
    " \"\"\"  \n",
    "prompt = ChatPromptTemplate.from_messages(\n",
    "    [(\"system\",system),\n",
    "     (\"human\",\"documents:{documents} \\n generation:{generation}\")]\n",
    ")\n",
    "\n",
    "hallucination_grader = prompt | llm_with_structured_output"
   ]
  },
  {
   "cell_type": "code",
   "execution_count": 19,
   "metadata": {},
   "outputs": [],
   "source": [
    "# Data model\n",
    "class GradeHallucinations(BaseModel):\n",
    "    \"\"\"Binary score for hallucination present in generation answer.\"\"\"\n",
    "\n",
    "    binary_score: str = Field(\n",
    "        description=\"Answer is grounded in the facts, 'yes' or 'no'\"\n",
    "    )"
   ]
  },
  {
   "cell_type": "code",
   "execution_count": 20,
   "metadata": {},
   "outputs": [],
   "source": [
    "# LLM with function call\n",
    "structured_llm_grader = llm.with_structured_output(GradeHallucinations)"
   ]
  },
  {
   "cell_type": "code",
   "execution_count": 21,
   "metadata": {},
   "outputs": [],
   "source": [
    "# Prompt\n",
    "system = \"\"\"You are a grader checking if an LLM generation is grounded in or supported by a set of retrieved facts.  \n",
    "Give a simple 'yes' or 'no' answer. 'Yes' means the generation is grounded in or supported by a set of retrieved the facts.\"\"\"\n",
    "hallucination_prompt = ChatPromptTemplate.from_messages(\n",
    "    [\n",
    "        (\"system\", system),\n",
    "        (\"human\", \"Set of facts: \\n\\n {documents} \\n\\n LLM generation: {generation}\"),\n",
    "    ]\n",
    ")\n",
    "hallucinations_grader = hallucination_prompt | structured_llm_grader"
   ]
  },
  {
   "cell_type": "code",
   "execution_count": 22,
   "metadata": {},
   "outputs": [],
   "source": [
    "\n",
    "system = \"\"\"You are a question re-writer that converts an input question into a better optimized version for vector store retrieval document.  \n",
    "You are given both a question and a document.  \n",
    "- First, check if the question is relevant to the document by identifying a connection or relevance between them.  \n",
    "- If there is a little relevancy, rewrite the question based on the semantic intent of the question and the context of the document.  \n",
    "- If no relevance is found, simply return this single word \"question not relevant.\" dont return the entire phrase \n",
    "Your goal is to ensure the rewritten question aligns well with the document for better retrieval.    \n",
    "Note this thing if you find question is not releated to documents then in that case just return \"question not relevant\"\n",
    "DO not give the explaination if the question is not relevant to documents\n",
    "      \n",
    "\n",
    "         \"\"\"\n",
    "re_write_prompt = ChatPromptTemplate.from_messages(\n",
    "    [\n",
    "        (\"system\", system),\n",
    "        (\n",
    "            \"human\",\"\"\"Here is the initial question: \\n\\n {question} \\n,\n",
    "             Here is the document: \\n\\n {documents} \\n ,\n",
    "             Formulate an improved question. if possible other return 'question not relevant'.\"\"\"\n",
    "        ),\n",
    "    ]\n",
    ")\n",
    "question_rewriter = re_write_prompt | llm | StrOutputParser()\n"
   ]
  },
  {
   "cell_type": "code",
   "execution_count": 23,
   "metadata": {},
   "outputs": [],
   "source": [
    "## defining the state of the function\n",
    "from typing import List\n",
    "from typing_extensions import TypedDict\n",
    "class AgentState(TypedDict):\n",
    "    question:str\n",
    "    generation:str\n",
    "    documents:List[str]\n",
    "    filter_documents:List[str]\n",
    "    unfilter_documents:List[str]\n"
   ]
  },
  {
   "cell_type": "code",
   "execution_count": 24,
   "metadata": {},
   "outputs": [],
   "source": [
    "## first of all creating the retrieve function\n",
    "## this function will take user question as input and will return retrieved documents a soutput from the retriever\n",
    "def retrieve(state:AgentState):\n",
    "    question = state.get(\"question\",None)\n",
    "    if question is None:\n",
    "        print(\"question not found\")\n",
    "    documents = retriever.invoke(question)\n",
    "    return {\"documents\": documents, \"question\": question}\n",
    " \n",
    "            "
   ]
  },
  {
   "cell_type": "code",
   "execution_count": 25,
   "metadata": {},
   "outputs": [],
   "source": [
    "def grade_document(state:AgentState):\n",
    "    question = state[\"question\"] ## question\n",
    "    documents = state[\"documents\"] \n",
    "    filtered_docs = [] ## all the filtered documents will be stored in this list only\n",
    "    unfiltered_docs = [] ## all the unfiltered documents will be stored in this list only\n",
    "\n",
    "    for doc in documents:\n",
    "        binary_score = document_grader.invoke({\"question\":question,\"documents\":doc}).binary_score\n",
    "        if binary_score == 'yes':\n",
    "            filtered_docs.append(doc)\n",
    "        elif binary_score == 'no':\n",
    "            unfiltered_docs.append(doc)\n",
    "    ## now i have both filtered_doc and unfiltered_doc\n",
    "    ## now if there is any unfiltered doc i will not return any filtered doc\n",
    "    if len(unfiltered_docs) >1:\n",
    "        return {\"question\":question,\"documents\":documents,\"unfiltered_documents\":unfiltered_docs,\"filtered_documents\":[]} ## in this case i am getting binary_score=no for any document\n",
    "    else:\n",
    "        return {\"question\":question,\"documents\":documents,\"unfiltered_documents\":[],\"filtered_documents\":filtered_docs} ## here i am not getting binary_score = 'no' for any document\n",
    "    \n"
   ]
  },
  {
   "cell_type": "code",
   "execution_count": 26,
   "metadata": {},
   "outputs": [],
   "source": [
    "def decide_to_generate(state:AgentState):\n",
    "    question = state[\"question\"]\n",
    "    documents = state[\"documents\"]\n",
    "    unfiltered_documents = state[\"unfiltered_documents\"]\n",
    "    filtered_documents = state[\"filtered_documents\"]\n",
    "    \n",
    "    ## taking the condition where there are some documents whose binary_score was no\n",
    "    if unfiltered_documents:\n",
    "        return \"transform_query\" \n",
    "    if filtered_documents:\n",
    "        return \"generate\"                   "
   ]
  },
  {
   "cell_type": "code",
   "execution_count": 27,
   "metadata": {},
   "outputs": [
    {
     "data": {
      "text/plain": [
       "ChatPromptTemplate(input_variables=['context', 'question'], input_types={}, partial_variables={}, metadata={'lc_hub_owner': 'rlm', 'lc_hub_repo': 'rag-prompt', 'lc_hub_commit_hash': '50442af133e61576e74536c6556cefe1fac147cad032f4377b60c436e6cdcb6e'}, messages=[HumanMessagePromptTemplate(prompt=PromptTemplate(input_variables=['context', 'question'], input_types={}, partial_variables={}, template=\"You are an assistant for question-answering tasks. Use the following pieces of retrieved context to answer the question. If you don't know the answer, just say that you don't know. Use three sentences maximum and keep the answer concise.\\nQuestion: {question} \\nContext: {context} \\nAnswer:\"), additional_kwargs={})])\n",
       "| ChatOpenAI(client=<openai.resources.chat.completions.completions.Completions object at 0x0000022E0699AAD0>, async_client=<openai.resources.chat.completions.completions.AsyncCompletions object at 0x0000022E069BCBE0>, root_client=<openai.OpenAI object at 0x0000022E02C0E8C0>, root_async_client=<openai.AsyncOpenAI object at 0x0000022E0699AB30>, model_kwargs={}, openai_api_key=SecretStr('**********'))"
      ]
     },
     "execution_count": 27,
     "metadata": {},
     "output_type": "execute_result"
    }
   ],
   "source": [
    "rag_chain"
   ]
  },
  {
   "cell_type": "code",
   "execution_count": 35,
   "metadata": {},
   "outputs": [],
   "source": [
    "def generate(state:AgentState):\n",
    "    question = state[\"question\"]\n",
    "    documents = state[\"documents\"]\n",
    "    response = rag_chain.invoke({\"question\":question,\"context\":documents})\n",
    "    return {\"question\":question,\"documents\":documents,\"generation\":response}"
   ]
  },
  {
   "cell_type": "code",
   "execution_count": 48,
   "metadata": {},
   "outputs": [],
   "source": [
    "## suppose we went to first case\n",
    "## now we need to rewrite the query based on the previous query intent and retrieved documents context\n",
    "def transform_query(state:AgentState):\n",
    "    question = state[\"question\"]\n",
    "    documents = state[\"documents\"]\n",
    "   \n",
    "\n",
    "    question = question_rewriter.invoke({\"question\":question,\"documents\":document_grader})\n",
    "    ## we passed the user question to question rewriter\n",
    "    ## now there are two possibilities\n",
    "    ## first possibility is that we will get the new generated question\n",
    "    if question == 'question not relevant': ## if this case arises we will move to end and we also need to give generation\n",
    "        return {\"question\":question,\"documents\":documents,\"generation\":\"question not at all relevant\"}\n",
    "    else:\n",
    "        return {\"question\":question,\"documents\":documents}\n",
    "    "
   ]
  },
  {
   "cell_type": "code",
   "execution_count": 30,
   "metadata": {},
   "outputs": [],
   "source": [
    "## after transform_query there are two possiblities \n",
    "## either we will go to end if question is not relevant \n",
    "## or we will again go to retriever part then follow the same process\n",
    "def decide_to_generate_after_transform(state:AgentState):\n",
    "    question = state[\"question\"]\n",
    "    if question == 'question not relevant':\n",
    "        return \"query_not_at_all_relevant\" \n",
    "    else:\n",
    "        return \"Retriever\"  \n"
   ]
  },
  {
   "cell_type": "code",
   "execution_count": null,
   "metadata": {},
   "outputs": [],
   "source": [
    "## now comes the main function\n",
    "## this function will be used afetr generation\n",
    "## at this point of time we will have generation\n",
    "## we will see if  generation is reated to retrieved documents or not\n",
    "## and we will also see if the generation is related to user asked question or not\n",
    "## in several cases it may also happen llm is generating the respons eon its own\n",
    "## we need to find out this thing"
   ]
  },
  {
   "cell_type": "code",
   "execution_count": 31,
   "metadata": {},
   "outputs": [],
   "source": [
    "def grade_generation_vs_documents_and_question(state:AgentState):\n",
    "    question = state[\"question\"] ## user question\n",
    "    documents = state[\"documents\"] ## retrieved documents\n",
    "    generation = state[\"generation\"] ## generation\n",
    "\n",
    "    binary_score = hallucination_grader.invoke({\"documents\":documents,\"generation\":generation}).binary_score\n",
    "    if binary_score == 'yes':\n",
    "        binary_score = answer_grader.invoke({\"generation\":generation,\"question\":question}).binary_score\n",
    "        if binary_score == 'yes':\n",
    "            return 'useful' \n",
    "        else:\n",
    "            return 'not useful' \n",
    "    else:\n",
    "        return 'not useful' "
   ]
  },
  {
   "cell_type": "code",
   "execution_count": 49,
   "metadata": {},
   "outputs": [],
   "source": [
    "from langgraph.graph import StateGraph,END,START\n",
    "workflow = StateGraph(AgentState)\n",
    "workflow.add_node(\"retriever\",retrieve)\n",
    "workflow.add_node(\"grade_document\",grade_document)\n",
    "workflow.add_node(\"generate\",generate)\n",
    "workflow.add_node(\"transform_query\",transform_query)\n",
    "\n",
    "workflow.add_edge(START,\"retriever\")\n",
    "workflow.add_edge(\"retriever\",\"grade_document\")\n",
    "workflow.add_conditional_edges(\"grade_document\",\n",
    "                               decide_to_generate,\n",
    "                               {\"transform_query\":\"transform_query\",\n",
    "                                \"generate\":\"generate\"})\n",
    "workflow.add_conditional_edges(\"generate\",\n",
    "                               grade_generation_vs_documents_and_question,\n",
    "                               {\"useful\":END,\n",
    "                                \"not useful\":'transform_query'})\n",
    "workflow.add_conditional_edges(\"transform_query\",\n",
    "                               decide_to_generate_after_transform,\n",
    "                               {\"query_not_at_all_relevant\":END,\n",
    "                                \"Retriever\":\"retriever\"})\n",
    "\n",
    "app = workflow.compile()\n"
   ]
  },
  {
   "cell_type": "code",
   "execution_count": 44,
   "metadata": {},
   "outputs": [
    {
     "data": {
      "image/png": "[encoded data removed]",
      "text/plain": [
       "<IPython.core.display.Image object>"
      ]
     },
     "metadata": {},
     "output_type": "display_data"
    }
   ],
   "source": [
    "from IPython.display import Image, display # type: ignore\n",
    "display(Image(app.get_graph(xray=True).draw_mermaid_png()))"
   ]
  },
  {
   "cell_type": "code",
   "execution_count": null,
   "metadata": {},
   "outputs": [
    {
     "data": {
      "text/plain": [
       "AIMessage(content=\"Short-term memory is utilized for in-context learning of the model. Long-term memory allows the agent to retain and recall information over extended periods. Memory stream records agents' experiences in natural language for retrieval.\", additional_kwargs={'refusal': None}, response_metadata={'token_usage': {'completion_tokens': 41, 'prompt_tokens': 2240, 'total_tokens': 2281, 'completion_tokens_details': {'accepted_prediction_tokens': 0, 'audio_tokens': 0, 'reasoning_tokens': 0, 'rejected_prediction_tokens': 0}, 'prompt_tokens_details': {'audio_tokens': 0, 'cached_tokens': 0}}, 'model_name': 'gpt-3.5-turbo-0125', 'system_fingerprint': None, 'finish_reason': 'stop', 'logprobs': None}, id='run-bedf328d-557d-4175-8350-06890cfc28b9-0', usage_metadata={'input_tokens': 2240, 'output_tokens': 41, 'total_tokens': 2281, 'input_token_details': {'audio': 0, 'cache_read': 0}, 'output_token_details': {'audio': 0, 'reasoning': 0}})"
      ]
     },
     "execution_count": 45,
     "metadata": {},
     "output_type": "execute_result"
    }
   ],
   "source": [
    "##  i have created the architecture\n",
    "inputs = {\"question\": \"Explain how the different types of agent memory work?\"}\n",
    "app.invoke(inputs)[\"generation\"]"
   ]
  },
  {
   "cell_type": "code",
   "execution_count": 52,
   "metadata": {},
   "outputs": [
    {
     "data": {
      "text/plain": [
       "AIMessage(content='Prompt engineering, also known as In-Context Prompting, involves methods to communicate with language models without updating their weights to steer their behavior. It is an empirical science that varies in effectiveness among models, requiring extensive experimentation and heuristics. Prompt engineering focuses on alignment and model steerability specifically for autoregressive language models.', additional_kwargs={'refusal': None}, response_metadata={'token_usage': {'completion_tokens': 66, 'prompt_tokens': 1433, 'total_tokens': 1499, 'completion_tokens_details': {'accepted_prediction_tokens': 0, 'audio_tokens': 0, 'reasoning_tokens': 0, 'rejected_prediction_tokens': 0}, 'prompt_tokens_details': {'audio_tokens': 0, 'cached_tokens': 0}}, 'model_name': 'gpt-3.5-turbo-0125', 'system_fingerprint': None, 'finish_reason': 'stop', 'logprobs': None}, id='run-5cbb4dcc-5545-4139-8e1c-68b95834c455-0', usage_metadata={'input_tokens': 1433, 'output_tokens': 66, 'total_tokens': 1499, 'input_token_details': {'audio': 0, 'cache_read': 0}, 'output_token_details': {'audio': 0, 'reasoning': 0}})"
      ]
     },
     "execution_count": 52,
     "metadata": {},
     "output_type": "execute_result"
    }
   ],
   "source": [
    "inputs = {\"question\": \"what is prompt engineering?\"}\n",
    "app.invoke(inputs)[\"generation\"]"
   ]
  },
  {
   "cell_type": "code",
   "execution_count": 50,
   "metadata": {},
   "outputs": [
    {
     "data": {
      "text/plain": [
       "'question not at all relevant'"
      ]
     },
     "execution_count": 50,
     "metadata": {},
     "output_type": "execute_result"
    }
   ],
   "source": [
    "inputs = {\"question\": \"who built Taj Mahal?\"}\n",
    "app.invoke(inputs)[\"generation\"]"
   ]
  },
  {
   "cell_type": "code",
   "execution_count": null,
   "metadata": {},
   "outputs": [],
   "source": []
  },
  {
   "cell_type": "code",
   "execution_count": null,
   "metadata": {},
   "outputs": [],
   "source": []
  },
  {
   "cell_type": "code",
   "execution_count": null,
   "metadata": {},
   "outputs": [],
   "source": []
  },
  {
   "cell_type": "code",
   "execution_count": null,
   "metadata": {},
   "outputs": [],
   "source": []
  }
 ],
 "metadata": {
  "kernelspec": {
   "display_name": "Python 3",
   "language": "python",
   "name": "python3"
  },
  "language_info": {
   "codemirror_mode": {
    "name": "ipython",
    "version": 3
   },
   "file_extension": ".py",
   "mimetype": "text/x-python",
   "name": "python",
   "nbconvert_exporter": "python",
   "pygments_lexer": "ipython3",
   "version": "3.10.0"
  }
 },
 "nbformat": 4,
 "nbformat_minor": 2
}
